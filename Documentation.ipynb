{
 "cells": [
  {
   "cell_type": "markdown",
   "id": "9def4a9f-2421-47e8-8ee7-3b07ea0ee789",
   "metadata": {
    "tags": []
   },
   "source": [
    "# Prison and Civic Mentality.\n",
    "## <span style='color:silver;'>How can they be related? </span>"
   ]
  },
  {
   "cell_type": "markdown",
   "id": "75422384-e9b3-4fa2-a076-231b53caa30e",
   "metadata": {
    "tags": []
   },
   "source": [
    "### NECESSARY DATA-SET LIST\n",
    "\n",
    "Deaths in prison: **D1**\n",
    "> https://dataunodc.un.org/dp-prisons-mortality \n",
    "\n",
    "Persons held by status (if unsentenced, also by time): **D2**\n",
    "> https://dataunodc.un.org/dp-prisons-persons-held\n",
    "\n",
    "Prison capacity and number of persons held: **D3**\n",
    "> https://ec.europa.eu/eurostat/databrowser/view/crim_pris_cap/default/table?lang=en \n",
    "\n",
    "Perceived independence of the justice system (only from 2016): **D4**\n",
    "> https://ec.europa.eu/eurostat/databrowser/view/sdg_16_40/default/table?lang=en \n",
    "\n",
    "Corruption perception index:\n",
    "> https://www.transparency.org/en/cpi/2021 (download the datasets year by year in the “full material” section)\n",
    "\n",
    "Corruption perception index (Eurostat, but based on data from the above source): **D5**\n",
    "> https://ec.europa.eu/eurostat/databrowser/view/sdg_16_50/default/table?lang=en \n",
    "\n",
    "General Governments expenditure in law courts: **D6**\n",
    "> https://ec.europa.eu/eurostat/databrowser/view/sdg_16_30/default/table?lang=en <br>\n",
    "    Or also government general expenditure by function: **D7** <br>\n",
    "    https://ec.europa.eu/eurostat/databrowser/view/GOV_10A_EXP__custom_2158505/bookmark/table?lang=en&bookmarkId=9430f5c2-b2f0-4870-80f3-767e1705460b \n",
    "\n",
    "<hr>\n",
    "\n",
    "### POTENTIALLY USEFUL DATA-SET LIST\n",
    "\n",
    "Number of prison facilities and capacity:\n",
    "> https://dataunodc.un.org/dp-prisons-facilities \n",
    "\n",
    "Criminal justice personnel:\n",
    "> https://dataunodc.un.org/dp-cjs-personnel \n",
    "\n",
    "Persons entering prison (by status and by crime committed):\n",
    "> https://dataunodc.un.org/dp-prisons-persons-entering \n",
    "\n",
    "Recorded offences by offence category:\n",
    "> https://ec.europa.eu/eurostat/databrowser/view/crim_off_cat$DV_348/default/table?lang=en \n",
    "\n",
    "Crime, violence or vandalism in the area by degree of urbanisation:\n",
    "> https://ec.europa.eu/eurostat/databrowser/view/ILC_MDDW06__custom_4916716/default/table?lang=en \n",
    "\n",
    "Prisons facilities anc capacity:\n",
    "> https://dataunodc.un.org/dp-prisons-facilities \n",
    "\n",
    "European Countries corruption barometer (it’s only for 2021):\n",
    "> https://www.transparency.org/en/gcb/eu/european-union-2021/press-and-downloads \n",
    "    Or we have also the global one that goes from 2003 to 2017 but with some holes in the middle: <br>\n",
    "    https://www.transparency.org/en/gcb/global/global-corruption-barometer-2017/press-and-downloads \n",
    "\n",
    "Trust in police:\n",
    "> https://ess-search.nsd.no/variable/75644eb7-7153-4e4f-b8a8-647c1093545f \n",
    "\n",
    "Confident that justice always prevails over injustice:\n",
    "> https://ess-search.nsd.no/variable/4b2168c4-ad1c-4009-9a68-769efead14ce \n",
    "\n",
    "<hr>\n",
    "\n",
    "\n",
    "### OTHER LINKS\n",
    "\n",
    "- Clearance in Europe (SAGE Journals)\n",
    "\n",
    "The data platform about crime and prisons from UN\n",
    "> https://dataunodc.un.org/\n",
    "\n",
    "Crime index of europe\n",
    "> https://www.numbeo.com/crime/rankings_by_country.jsp?title=2020&region=150\n",
    "\n",
    "\n",
    "\n",
    "### DATASETS LEGAL CHECKLIST"
   ]
  },
  {
   "cell_type": "markdown",
   "id": "3155011b-830c-4996-8130-4afa1af91996",
   "metadata": {},
   "source": [
    "#### ABOUT THE PRIVACY\n",
    "\n",
    "| PRIVACY ISSUES      | D1     | D2 | D3     | D4 |D5 | D6     | D7 |\n",
    "|--------------|-----------|------------|-----------|------------|-----------|------------|-----------|\n",
    "| Is the dataset free of any personal data as defined in the Regulation (EU) 2016/679? | <span style='color:green'>Y</span>|<span style='color:green'>Y</span>|<span style='color:green'>Y</span>| <span style='color:green'>Y</span> |<span style='color:green'>Y</span>|<span style='color:green'>Y</span>|<span style='color:green'>Y</span>|\n",
    "| Is the dataset free of any indirect personal data that could be <br>used for identifying the natural person?| <span style='color:green'>Y</span>|<span style='color:green'>Y</span>|<span style='color:green'>Y</span>| <span style='color:green'>Y</span> |<span style='color:green'>Y</span>|<span style='color:green'>Y</span>|<span style='color:green'>Y</span>|\n",
    "|Is the dataset free of any particular personal data (art. 9 GDPR)?| <span style='color:green'>Y</span>|<span style='color:green'>Y</span>|<span style='color:green'>Y</span>| <span style='color:green'>Y</span> |<span style='color:green'>Y</span>|<span style='color:green'>Y</span>|<span style='color:green'>Y</span>|\n",
    "| Is the dataset free of any information that combined with common data available in the web, could identify the person?| <span style='color:green'>Y</span>|<span style='color:green'>Y</span>|<span style='color:green'>Y</span>| <span style='color:green'>Y</span> |<span style='color:green'>Y</span>|<span style='color:green'>Y</span>|<span style='color:green'>Y</span>|\n",
    "| Is the dataset free of any information related to human rights (e.g. refugees, witness protection, etc.)?| <span style='color:green'>Y</span>|<span style='color:green'>Y</span>|<span style='color:green'>Y</span>| <span style='color:green'>Y</span> |<span style='color:green'>Y</span>|<span style='color:green'>Y</span>|<span style='color:green'>Y</span>|\n",
    "|Do you use a tool for calculating the range of the risk of de-anonymization? <br> Do you anonymize the dataset? With which technique? <br>Did you check the three mandatory parameters: singling out, linking out, inference out?| <span style='color:red'>N</span>|<span style='color:red'>N</span>|<span style='color:red'>N</span>| <span style='color:red'>N</span> |<span style='color:red'>N</span>|<span style='color:red'>N</span>|<span style='color:red'>N</span>|\n",
    "|Are you using geolocalization capabilities ?<br> Do you check that the geolocalization process can’t identify single individuals in some circumstances?| <span style='color:red'>N</span><br> _not <br> using <br>location_|<span style='color:red'>N</span> <br> _not <br> using <br>location_|<span style='color:red'>N</span><br> _not <br> using <br>location_| <span style='color:red'>N</span><br> _not <br> using <br>location_ |<span style='color:red'>N</span><br> _not <br> using <br>location_|<span style='color:red'>N</span><br> _not <br> using <br>location_|<span style='color:red'>N</span><br> _not <br> using <br>location_|\n",
    "| Did you check that the open data platform respect all the privacy regulations (registration of the end-user, profiling, cookies, analytics, etc.)? | <span style='color:green'>Y</span>|<span style='color:green'>Y</span>|<span style='color:green'>Y</span>| <span style='color:green'>Y</span> |<span style='color:green'>Y</span>|<span style='color:green'>Y</span>|<span style='color:green'>Y</span>|\n",
    "| Do you know who are in your open data platform the Controller and Processor of the privacy data of the system? | <span style='color:green'>Y</span><br> _UN <br> Privacy Policy <br>group_|<span style='color:green'>Y</span><br> _UN <br> Privacy Policy <br>group_|<span style='color:green'>Y</span><br> _European <br> Statistical System <br>Committee_| <span style='color:green'>Y</span><br> _European <br> Statistical System <br>Committee_|<span style='color:green'>Y</span><br> _European <br> Statistical System <br>Committee_|<span style='color:green'>Y</span><br> _European <br> Statistical System <br>Committee_|<span style='color:green'>Y</span><br> _European <br> Statistical System <br>Committee_|\n",
    "| Where the datasets are physically stored (country and jurisdiction)? | <span style='color:green'>Y</span><br> _NY City <br> USA_|<span style='color:green'>Y</span><br> _NY City <br> USA_|<span style='color:green'>Y</span><br> _EU_| <span style='color:green'>Y</span><br> _EU_|<span style='color:green'>Y</span><br> _EU_|<span style='color:green'>Y</span><br> _EU_ |<span style='color:green'>Y</span><br> _EU_|\n",
    "| Do you have non-personal data? <br>Are you sure that are not “mixed data”?| <span style='color:green'>Y</span>|<span style='color:green'>Y</span>|<span style='color:green'>Y</span>| <span style='color:green'>Y</span> |<span style='color:green'>Y</span>|<span style='color:green'>Y</span>|<span style='color:green'>Y</span>|\n",
    "\n",
    "<hr>"
   ]
  },
  {
   "cell_type": "markdown",
   "id": "ef858cf6-30fe-47b4-8e5b-3090fde7d0f4",
   "metadata": {},
   "source": [
    "#### ABOUT THE IPR\n",
    "\n",
    "| IPR of the datasets      | D1     | D2 | D3     | D4 |D5 | D6     | D7 |\n",
    "|--------------|-----------|------------|-----------|------------|-----------|------------|-----------|\n",
    "| Do you have created and generated the dataset? | <span style='color:red'>N</span>|<span style='color:red'>N</span>|<span style='color:red'>N</span>| <span style='color:red'>N</span> |<span style='color:red'>N</span>|<span style='color:red'>N</span>|<span style='color:red'>N</span>|\n",
    "| Are you the owner of the dataset? How is the owner?| <span style='color:red'>N</span>|<span style='color:red'>N</span>|<span style='color:red'>N</span>| <span style='color:red'>N</span> |<span style='color:red'>N</span>|<span style='color:red'>N</span>|<span style='color:red'>N</span>|\n",
    "|Are you sure to not use third party data without the proper authorization and license? Are the dataset free from third party licenses or patents?| <span style='color:green'>Y</span>|<span style='color:green'>Y</span>|<span style='color:green'>Y</span>| <span style='color:green'>Y</span> |<span style='color:green'>Y</span>|<span style='color:green'>Y</span>|<span style='color:green'>Y</span>|\n",
    "| Do you have checked if there are some limitations in your national legal system for releasing some kind of datasets with open license?| <span style='color:green'>Y</span>|<span style='color:green'>Y</span>|<span style='color:green'>Y</span>| <span style='color:green'>Y</span> |<span style='color:green'>Y</span>|<span style='color:green'>Y</span>|<span style='color:green'>Y</span>|\n",
    "\n",
    "<hr>"
   ]
  },
  {
   "cell_type": "markdown",
   "id": "f30d3801-0135-4998-884c-574b57e99caf",
   "metadata": {
    "jp-MarkdownHeadingCollapsed": true,
    "tags": []
   },
   "source": [
    "#### ABOUT PUBLIC ACCESS LIMITATION\n",
    "\n",
    "| Limitations on public access      | D1     | D2 | D3     | D4 |D5 | D6     | D7 |\n",
    "|--------------|-----------|------------|-----------|------------|-----------|------------|-----------|\n",
    "| Do you check that the dataset concerns your institutional competences, scope and finality? Do you check if the dataset concerns other public administration competences?| <span style='color:green'>Y</span>|<span style='color:green'>Y</span>|<span style='color:green'>Y</span>| <span style='color:green'>Y</span> |<span style='color:green'>Y</span>|<span style='color:green'>Y</span>|<span style='color:green'>Y</span>|\n",
    "| Do you check the limitations for the publication stated by your national legislation or by the EU directives?| <span style='color:green'>Y</span>|<span style='color:green'>Y</span>|<span style='color:green'>Y</span>| <span style='color:green'>Y</span> |<span style='color:green'>Y</span>|<span style='color:green'>Y</span>|<span style='color:green'>Y</span>|\n",
    "|Do you check if there are some limitations connected to the international relations, public security or national defence?| <span style='color:green'>Y</span>|<span style='color:green'>Y</span>|<span style='color:green'>Y</span>| <span style='color:green'>Y</span> |<span style='color:green'>Y</span>|<span style='color:green'>Y</span>|<span style='color:green'>Y</span>|\n",
    "| Do you check if there are some limitations concerning the public interest ?| <span style='color:green'>Y</span>|<span style='color:green'>Y</span>|<span style='color:green'>Y</span>| <span style='color:green'>Y</span> |<span style='color:green'>Y</span>|<span style='color:green'>Y</span>|<span style='color:green'>Y</span>|\n",
    "|Do you check the international law limitations?| <span style='color:green'>Y</span>|<span style='color:green'>Y</span>|<span style='color:green'>Y</span>| <span style='color:green'>Y</span> |<span style='color:green'>Y</span>|<span style='color:green'>Y</span>|<span style='color:green'>Y</span>|\n",
    "| Do you check the INSPIRE law limitations for the spatial data?| <span style='color:red'>N</span>|<span style='color:red'>N</span>|<span style='color:red'>N</span>| <span style='color:red'>N</span> |<span style='color:red'>N</span>|<span style='color:red'>N</span>|<span style='color:red'>N</span>|\n",
    "\n",
    "<hr>"
   ]
  },
  {
   "cell_type": "markdown",
   "id": "758871c6-c170-4c4d-862e-3c953db29835",
   "metadata": {
    "tags": []
   },
   "source": [
    "#### ABOUT LISCENCE\n",
    "\n",
    "| Lisence     | D1     | D2 | D3     | D4 |D5 | D6     | D7 |\n",
    "|--------------|-----------|------------|-----------|------------|-----------|------------|-----------|\n",
    "| Do you release the dataset with an open data license ? <br>In case of the use of CC0 do you check that you have all the right necessary for this particular kind of license (e.g., jurisdiction)?| <span style='color:red'>N</span>|<span style='color:red'>N</span>|<span style='color:green'>Y</span>| <span style='color:green'>Y</span> |<span style='color:green'>Y</span>|<span style='color:green'>Y</span>|<span style='color:green'>Y</span>|\n",
    "| Do you include the clause: \"In any case the dataset can’t be used for re-identifying the person\"?|<span style='color:red'>N</span>|<span style='color:red'>N</span>|<span style='color:red'>N</span>| <span style='color:red'>N</span> |<span style='color:red'>N</span>|<span style='color:red'>N</span>|<span style='color:red'>N</span>|\n",
    "|Do you release the API (in case you have) with an open source license ?| <span style='color:red'>N</span>|<span style='color:red'>N</span>|<span style='color:red'>N</span>| <span style='color:red'>N</span> |<span style='color:red'>N</span>|<span style='color:red'>N</span>|<span style='color:red'>N</span>|\n",
    "|Do you check that the open data/API platform license regime is compliance with your IPR policy?\n",
    "Do you have all the licences related to the open data platform/API software?| <span style='color:red'>N</span>|<span style='color:red'>N</span>|<span style='color:red'>N</span>| <span style='color:red'>N</span> |<span style='color:red'>N</span>|<span style='color:red'>N</span>|<span style='color:red'>N</span>|\n",
    "\n",
    "<hr>"
   ]
  },
  {
   "cell_type": "markdown",
   "id": "bc809e6f-224b-48b7-b48d-268dbfee47b3",
   "metadata": {
    "tags": []
   },
   "source": [
    "#### ABOUT ECONOMICAL CONDITIONS\n",
    "\n",
    "| Economical Conditions| D1     | D2 | D3     | D4 |D5 | D6     | D7 |\n",
    "|--------------|-----------|------------|-----------|------------|-----------|------------|-----------|\n",
    "| Do you check that the dataset could be released for free?| <span style='color:green'>Y</span>|<span style='color:green'>Y</span>|<span style='color:green'>Y</span>| <span style='color:green'>Y</span> |<span style='color:green'>Y</span>|<span style='color:green'>Y</span>|<span style='color:green'>Y</span>|\n",
    "| Do you check if there are some agreements with some other partners in order to release the dataset with a reasonable price ?| <span style='color:green'>Y</span>|<span style='color:green'>Y</span>|<span style='color:green'>Y</span>| <span style='color:green'>Y</span> |<span style='color:green'>Y</span>|<span style='color:green'>Y</span>|<span style='color:green'>Y</span>|\n",
    "|Do you check if tx data platform terms of service include a clause of “non liability agreement” regarding the dataset and API provided?| <span style='color:green'>Y</span>|<span style='color:green'>Y</span>|<span style='color:green'>Y</span>| <span style='color:green'>Y</span> |<span style='color:green'>Y</span>|<span style='color:green'>Y</span>|<span style='color:green'>Y</span>|\n",
    "|In case you decide to release the dataset to a reasonable price do you check if the limitation imposed by the new directive 2019/1024/EU are respected?<br>Are you able to calculate the “marginal cost”?<br>Are you able to justify the “reasonable return on investment” limited to cover the costs of collection, production, eproduction, dissemination, preservation and rights clearance?<br>There is a national law that justify your public administration to apply the “reasonable return of investment”?| _not the case_|_not the case_|_not the case_| _not the case_ |_not the case_|_not the case_|_not the case_|\n",
    "| In case you decide to release the dataset to a reasonable price do you check the e-Commerce directive1 and regulation?|_not the case_|_not the case_|_not the case_| _not the case_ |_not the case_|_not the case_|_not the case_| \n",
    "\n",
    "\n",
    "<hr>"
   ]
  },
  {
   "cell_type": "markdown",
   "id": "36d655de-e27d-48b2-b962-e2429dbcd6bd",
   "metadata": {},
   "source": [
    "#### ABOUT TEMPRORARY ASPECTS\n",
    "\n",
    "| Temporary Aspects| D1     | D2 | D3     | D4 |D5 | D6     | D7 |\n",
    "|--------------|-----------|------------|-----------|------------|-----------|------------|-----------|\n",
    "| Do you have a temporary policy for updating the dataset?| ? |?|?| ? |?|?|?|\n",
    "| Do you have some mechanism for informing the end-user that the dataset is updated at a given time to avoid mis-usage and so potential risk of damage ?| <span style='color:green'>Y</span>|<span style='color:green'>Y</span>|<span style='color:green'>Y</span>| <span style='color:green'>Y</span> |<span style='color:green'>Y</span>|<span style='color:green'>Y</span>|<span style='color:green'>Y</span>|\n",
    "|Did you check if the dataset for some reason can’t be indexed by the research engines (e.g. Google, Yahoo, etc.) ?| <span style='color:green'>Y</span>|<span style='color:green'>Y</span>|<span style='color:green'>Y</span>| <span style='color:green'>Y</span> |<span style='color:green'>Y</span>|<span style='color:green'>Y</span>|<span style='color:green'>Y</span>|\n",
    "| In case of personal data, do you have a reasonable technical mechanism for collecting request of deletion (e.g. right to be forgotten)?| _not the case_|_not the case_|_not the case_| _not the case_ |_not the case_|_not the case_|_not the case_|\n",
    "\n",
    "<hr>"
   ]
  },
  {
   "cell_type": "markdown",
   "id": "0031ac6f-47cb-4933-a1c1-aec5d71b9e22",
   "metadata": {},
   "source": [
    "### Clarifications about some elements of the table \n",
    "> \n",
    "    - About the data policy for UN \n",
    "    - About the data policy for Eurostat \n",
    "    - About INSPIRE \n",
    "\n",
    "#### TECHNICAL ANALYSIS\n",
    "\n",
    "| Dataset| Source     | URI | Format     | Metadata |Liscence |\n",
    "|------------------|--------|----|--------|----|---|\n",
    "| D1          | United Nations - data<br>UNODC|https://dataunodc.un.org/dp-prisons-mortality|.xslx | AGID metadata model Level-2 |not explicit*|\n",
    "| D2          | United Nations - data<br>UNODC|https://dataunodc.un.org/dp-prisons-persons-held|.xslx | AGID metadata model Level-2 |not explicit*|\n",
    "| D3          | EUROSTAT|https://ec.europa.eu/eurostat/databrowser/view/crim_pris_cap/default/table?lang=en|.sdmx-csv, .tsv, .xlsx| AGID metadata model Level-2 | CC BY 4.0 |\n",
    "| D4          | EUROSTAT|https://ec.europa.eu/eurostat/databrowser/view/sdg_16_40/default/table?lang=en|.sdmx-csv, .tsv, .xlsx | AGID metadata model Level-2/3/4 |CC BY 4.0 |\n",
    "| D5          | EUROSTAT|https://ec.europa.eu/eurostat/databrowser/view/sdg_16_50/default/table?lang=en|.sdmx-csv, .tsv, .xlsx | AGID metadata model Level-2/3/4|CC BY 4.0 |\n",
    "| D6          | EUROSTAT|https://ec.europa.eu/eurostat/databrowser/view/sdg_16_30/default/table?lang=en|.sdmx-csv, .tsv, .xlsx | AGID metadata model Level-2/3/4 |CC BY 4.0 |\n",
    "| D7          | EUROSTAT|https://ec.europa.eu/eurostat/databrowser/view/GOV_10A_EXP__custom_2158505/bookmark/table?lang=en&bookmarkId=9430f5c2-b2f0-4870-80f3-767e1705460b|.sdmx-csv, .tsv, .xlsx | AGID metadata model Level-2/3/4 |CC BY 4.0 |\n",
    "\n",
    "*    All data and metadata provided on UNdata’s website are available free of charge and may be copied freely, duplicated and further distributed provided that UNdata is cited as the reference. See here.\n",
    "<hr>"
   ]
  },
  {
   "cell_type": "markdown",
   "id": "fd17dbdd-083c-407d-9b9e-b7171ea8b30b",
   "metadata": {},
   "source": [
    "### ETHICAL ANALYSIS\n",
    "\n",
    "#### Eurostat\n",
    "According to the public declarations released by the European Commission, any activity proposed under its influence follows a strict process of review and assessment, called “The Ethics Review”. This obviously applies also to Eurostat, which exists as statistical office of the European Union, and to all its released researches. <br>\n",
    "\n",
    "Moreover, in Eurostat’s “privacy policy” page, the organization refers to the General data protection framework (GDPR) based on the Regulation (EU) 2016/679 and the Regulation (EU) 2018/1725, that strengthens the rights of data subjects and the obligations of data controllers (organisations that collect and process the data). <br>\n",
    "\n",
    "The integration of microdata files to the released dataset also reduces the risk of respondents being identified: their identities remain, anyway, anonymous and the top priority of Eurostat’s data management and protection. \n",
    "When it comes to biases or prejudices against sensitive themes, the Regulation (EC) No 223/2009 of the European Parliament states the following statistical principles. \n",
    "\n",
    "#### United Nations - dataUNODC\n",
    "The “standards and methods” page located on the official website of the United Nations, refers to a default anonymization, given both by the good ethical practices internationally estabilished and by the large geographical area covered by dataUNODC’s investigations. \n",
    "The data gathered by dataUNODC is obtained from organisations, agencies and experts collaborating or recognized by the United Nations, and the integration of microdata, just like in the case of Eurostat, reassures an overall transparency and lack of prejudice. \n",
    "\n",
    "\n",
    "### QUALITY ANALYSIS\n",
    "https://shimmering-save-831.notion.site/Overview-our-data-cb2c95503c854aa2b51d1daa1db48fbb "
   ]
  },
  {
   "cell_type": "markdown",
   "id": "1ba52477-2e62-41a4-bdd5-28189f02945f",
   "metadata": {},
   "source": [
    "### DATA CLEANING STEPS\n",
    "\n",
    "1. **Time Span**\n",
    "2. **Value labels**: make it our own or, if it’s okay, make note of how these values are being referred to (documentation or change according to our needs) \n",
    "3. **Keep track of cleaning**: on a separate doc we can define the values we could possibly encounter in a column or changing labels\n",
    "4. **Normalize datasets** (same data formats and coherence across datasets with labels, ex. Date and time have to be referred to and inferred in the same way)\n",
    "5. **Blank values**: need to decide if to replace it with a value or to remove the entire row (in this second case, we need to document the removed blank spaces)\n",
    "6. **Define areas we’re always interested in!** (we could group by geo areas such as scandinavia, eastern europe or we could choose a set of countries or we coil just go full europe)\n",
    "7. _Some advice_: when mashing datasets, - be careful to not mismatch, - pay attention to duplicates while cleaning or merging \n",
    "\n"
   ]
  }
 ],
 "metadata": {
  "kernelspec": {
   "display_name": "Python 3",
   "language": "python",
   "name": "python3"
  },
  "language_info": {
   "codemirror_mode": {
    "name": "ipython",
    "version": 3
   },
   "file_extension": ".py",
   "mimetype": "text/x-python",
   "name": "python",
   "nbconvert_exporter": "python",
   "pygments_lexer": "ipython3",
   "version": "3.10.0"
  },
  "vscode": {
   "interpreter": {
    "hash": "aee8b7b246df8f9039afb4144a1f6fd8d2ca17a180786b69acc140d282b71a49"
   }
  }
 },
 "nbformat": 4,
 "nbformat_minor": 5
}
